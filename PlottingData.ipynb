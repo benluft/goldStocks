{
 "cells": [
  {
   "cell_type": "code",
   "execution_count": 54,
   "id": "popular-naples",
   "metadata": {},
   "outputs": [],
   "source": [
    "import json\n",
    "import os\n",
    "from bokeh.plotting import figure, output_file, show\n",
    "from bokeh.models import ColumnDataSource, LabelSet, CategoricalColorMapper\n",
    "from bokeh.layouts import column\n",
    "from bokeh.io import save"
   ]
  },
  {
   "cell_type": "code",
   "execution_count": 11,
   "id": "worldwide-alignment",
   "metadata": {},
   "outputs": [],
   "source": [
    "root = os.getcwd()"
   ]
  },
  {
   "cell_type": "code",
   "execution_count": 46,
   "id": "personal-building",
   "metadata": {},
   "outputs": [],
   "source": [
    "with open(os.path.join(root, 'jsons', 'goldStockRatiosTTM.json')) as f:\n",
    "    ratios_ttm_json = json.load(f)"
   ]
  },
  {
   "cell_type": "code",
   "execution_count": 28,
   "id": "italic-driver",
   "metadata": {},
   "outputs": [
    {
     "name": "stdout",
     "output_type": "stream",
     "text": [
      "Companies with Quick Ratio: 54\n",
      "Companies with Operating Profit Margin: 43\n",
      "Companies with both Quick Ratio and Operating Profit Margin: 42\n"
     ]
    }
   ],
   "source": [
    "def make_comparison_scatter_plot(x_axis, y_axis):\n",
    "    # x_axis and y_axis: tuple with 2 values, the first is the value in the json, the second is a pretified version\n",
    "    x_list = []\n",
    "    y_list = []\n",
    "    names_list = []\n",
    "    x_tickers = 0\n",
    "    y_tickers = 0\n",
    "    both_tickers = 0\n",
    "    for ticker, data in ratios_ttm_json.items():\n",
    "        data = data[0]\n",
    "        if data[x_axis[0]]:\n",
    "            x_tickers += 1\n",
    "        if data[y_axis[0]]:\n",
    "            y_tickers += 1\n",
    "        if data[x_axis[0]] and data[y_axis[0]]:\n",
    "            both_tickers += 1\n",
    "            x_list.append(data[x_axis[0]])\n",
    "            y_list.append(data[y_axis[0]])\n",
    "            names_list.append(ticker)\n",
    "\n",
    "    print(f\"Companies with {x_axis[1]}: {x_tickers}\")\n",
    "    print(f\"Companies with {y_axis[1]}: {y_tickers}\")\n",
    "    print(f\"Companies with both {x_axis[1]} and {y_axis[1]}: {both_tickers}\")\n",
    "    source = ColumnDataSource(data={f\"{x_axis[1]}\": x_list,\n",
    "                                    f\"{y_axis[1]}\": y_list,\n",
    "                                    \"Tickers\": names_list})\n",
    "    p = figure(title=f\"{y_axis[1]} TTM vs {x_axis[1]} TTM of Prominent Gold Stocks\")\n",
    "    p.scatter(x=x_axis[1], y=y_axis[1], source=source)\n",
    "    p.xaxis.axis_label = x_axis[1]\n",
    "    p.yaxis.axis_label = y_axis[1]\n",
    "    labels = LabelSet(x=x_axis[1], y=y_axis[1], text=\"Tickers\", source=source, x_offset=5, y_offset=5)\n",
    "    p.add_layout(labels)\n",
    "    show(p)\n",
    "make_comparison_scatter_plot((\"quickRatioTTM\", \"Quick Ratio\"), ('operatingProfitMarginTTM', \"Operating Profit Margin\"))"
   ]
  },
  {
   "cell_type": "markdown",
   "id": "outstanding-definition",
   "metadata": {},
   "source": [
    "## Finding how many of each stats are available"
   ]
  },
  {
   "cell_type": "code",
   "execution_count": 27,
   "id": "oriented-guest",
   "metadata": {
    "scrolled": true
   },
   "outputs": [
    {
     "data": {
      "text/plain": [
       "{'dividendYielTTM': 20,\n",
       " 'dividendYielPercentageTTM': 20,\n",
       " 'peRatioTTM': 18,\n",
       " 'pegRatioTTM': 18,\n",
       " 'payoutRatioTTM': 18,\n",
       " 'currentRatioTTM': 54,\n",
       " 'quickRatioTTM': 54,\n",
       " 'cashRatioTTM': 54,\n",
       " 'daysOfSalesOutstandingTTM': 40,\n",
       " 'daysOfInventoryOutstandingTTM': 41,\n",
       " 'operatingCycleTTM': 42,\n",
       " 'daysOfPayablesOutstandingTTM': 46,\n",
       " 'cashConversionCycleTTM': 42,\n",
       " 'grossProfitMarginTTM': 43,\n",
       " 'operatingProfitMarginTTM': 43,\n",
       " 'pretaxProfitMarginTTM': 43,\n",
       " 'netProfitMarginTTM': 43,\n",
       " 'effectiveTaxRateTTM': 48,\n",
       " 'returnOnAssetsTTM': 54,\n",
       " 'returnOnEquityTTM': 54,\n",
       " 'returnOnCapitalEmployedTTM': 54,\n",
       " 'netIncomePerEBTTTM': 55,\n",
       " 'ebtPerEbitTTM': 55,\n",
       " 'ebitPerRevenueTTM': 43,\n",
       " 'debtRatioTTM': 54,\n",
       " 'debtEquityRatioTTM': 54,\n",
       " 'longTermDebtToCapitalizationTTM': 36,\n",
       " 'totalDebtToCapitalizationTTM': 16,\n",
       " 'interestCoverageTTM': 51,\n",
       " 'cashFlowToDebtRatioTTM': 16,\n",
       " 'companyEquityMultiplierTTM': 54,\n",
       " 'receivablesTurnoverTTM': 40,\n",
       " 'payablesTurnoverTTM': 46,\n",
       " 'inventoryTurnoverTTM': 41,\n",
       " 'fixedAssetTurnoverTTM': 41,\n",
       " 'assetTurnoverTTM': 42,\n",
       " 'operatingCashFlowPerShareTTM': 51,\n",
       " 'freeCashFlowPerShareTTM': 52,\n",
       " 'cashPerShareTTM': 52,\n",
       " 'operatingCashFlowSalesRatioTTM': 41,\n",
       " 'freeCashFlowOperatingCashFlowRatioTTM': 52,\n",
       " 'cashFlowCoverageRatiosTTM': 16,\n",
       " 'shortTermCoverageRatiosTTM': 23,\n",
       " 'capitalExpenditureCoverageRatioTTM': 50,\n",
       " 'dividendPaidAndCapexCoverageRatioTTM': 19,\n",
       " 'priceBookValueRatioTTM': 50,\n",
       " 'priceToBookRatioTTM': 50,\n",
       " 'priceToSalesRatioTTM': 39,\n",
       " 'priceEarningsRatioTTM': 50,\n",
       " 'priceToFreeCashFlowsRatioTTM': 50,\n",
       " 'priceToOperatingCashFlowsRatioTTM': 49,\n",
       " 'priceCashFlowRatioTTM': 49,\n",
       " 'priceEarningsToGrowthRatioTTM': 49,\n",
       " 'priceSalesRatioTTM': 39,\n",
       " 'dividendYieldTTM': 18,\n",
       " 'enterpriseValueMultipleTTM': 53,\n",
       " 'priceFairValueTTM': 50}"
      ]
     },
     "execution_count": 27,
     "metadata": {},
     "output_type": "execute_result"
    }
   ],
   "source": [
    "ratios_dict = {}\n",
    "for ticker, data in ratios_ttm_json.items():\n",
    "    data = data[0]\n",
    "    for key, item in data.items():\n",
    "        if key not in ratios_dict:\n",
    "            ratios_dict[key] = 0\n",
    "        if item:\n",
    "            ratios_dict[key] += 1\n",
    "ratios_dict"
   ]
  },
  {
   "cell_type": "code",
   "execution_count": 56,
   "id": "assisted-palmer",
   "metadata": {},
   "outputs": [
    {
     "data": {
      "text/plain": [
       "'/home/ben_luft/JupyterProjects/goldStocks/plots/ttm_ratio_bar_charts.html'"
      ]
     },
     "execution_count": 56,
     "metadata": {},
     "output_type": "execute_result"
    }
   ],
   "source": [
    "width = 1700\n",
    "height = 800\n",
    "def make_bar_charts_for_ratios(ratios_list):\n",
    "    \"\"\"\n",
    "    ratios_list is a list of tuples, the first one is the ratio name in the json, the second one is the clean name, the third one is true if a higher number is 'better'\n",
    "    \"\"\"\n",
    "    figures_list = []\n",
    "    for ratio in ratios_list:\n",
    "        ratio_values_list = []\n",
    "        ticker_list = []\n",
    "        for ticker, data in ratios_ttm_json.items():\n",
    "            data = data[0]\n",
    "            ratio_value = data[ratio[0]]\n",
    "            if ratio_value:\n",
    "                ratio_values_list.append(ratio_value)\n",
    "                ticker_list.append(ticker)\n",
    "        sorted_tickers_list = sorted(ticker_list, key=lambda x: -ratio_values_list[ticker_list.index(x)])\n",
    "        if not ratio[2]:\n",
    "            sorted_tickers_list.reverse()\n",
    "        # Only take the best 20 stocks for each ratio\n",
    "        end_index = 20 if len(sorted_tickers_list) >= 20 else len(sorted_tickers_list)\n",
    "        sorted_tickers_list = sorted_tickers_list[0:end_index]\n",
    "        accepted_indexes = []\n",
    "        for ind, val in enumerate(ticker_list):\n",
    "            if val in sorted_tickers_list:\n",
    "                accepted_indexes.append(ind)\n",
    "        ticker_list = [ticker_list[i] for i in accepted_indexes]\n",
    "        ratio_values_list = [ratio_values_list[i] for i in accepted_indexes]\n",
    "        color_mapper = CategoricalColorMapper(factors=['KGC', 'TXG.TO', 'CEE.TO'], palette=[\"red\", \"green\", \"orange\"], nan_color=\"blue\")\n",
    "        p = figure(width=width, height=height, x_range=sorted_tickers_list, title=f\"{ratio[1]} TTM for Gold Stocks\")\n",
    "        source = ColumnDataSource({\"Ticker\": ticker_list,\n",
    "                                   ratio[1]: ratio_values_list})\n",
    "        p.vbar(x=\"Ticker\", top=ratio[1], width=0.9, fill_color={'field': 'Ticker', 'transform': color_mapper}, source=source)\n",
    "        figures_list.append(p)\n",
    "#     show(column(figures_list))\n",
    "    return column(figures_list)\n",
    "    \n",
    "    \n",
    "f = make_bar_charts_for_ratios([(\"quickRatioTTM\", \"Quick Ratio\", True), \n",
    "                                    ('operatingProfitMarginTTM', \"Operating Profit Margin\", True), \n",
    "                                    ('returnOnEquityTTM', \"Return On Equity\", True),\n",
    "                                    ('peRatioTTM', \"Price to Earnings\", False)])\n",
    "save(f, os.path.join(root, 'plots', \"ttm_ratio_bar_charts.html\"))\n",
    "\n",
    "            "
   ]
  },
  {
   "cell_type": "code",
   "execution_count": 57,
   "id": "found-trading",
   "metadata": {},
   "outputs": [
    {
     "name": "stdout",
     "output_type": "stream",
     "text": [
      "66\n"
     ]
    }
   ],
   "source": [
    "print(len(ratios_ttm_json))"
   ]
  },
  {
   "cell_type": "code",
   "execution_count": null,
   "id": "continued-research",
   "metadata": {},
   "outputs": [],
   "source": []
  }
 ],
 "metadata": {
  "kernelspec": {
   "display_name": "Python 3",
   "language": "python",
   "name": "python3"
  },
  "language_info": {
   "codemirror_mode": {
    "name": "ipython",
    "version": 3
   },
   "file_extension": ".py",
   "mimetype": "text/x-python",
   "name": "python",
   "nbconvert_exporter": "python",
   "pygments_lexer": "ipython3",
   "version": "3.8.5"
  }
 },
 "nbformat": 4,
 "nbformat_minor": 5
}
